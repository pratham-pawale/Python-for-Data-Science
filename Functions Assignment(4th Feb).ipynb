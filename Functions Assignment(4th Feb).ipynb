{
 "cells": [
  {
   "cell_type": "markdown",
   "id": "8db24719-9746-48f7-b76d-a242fb312f84",
   "metadata": {},
   "source": [
    "# Q1. Create a python program to sort the given list of tuples based on integer value using a lambda function. \n",
    "# [('Sachin Tendulkar', 34357), ('Ricky Ponting', 27483), ('Jack Kallis', 25534), ('Virat Kohli', 24936)]\n",
    "\n"
   ]
  },
  {
   "cell_type": "code",
   "execution_count": 23,
   "id": "56a88c28-f79f-4db2-811b-e8e7d4840a78",
   "metadata": {},
   "outputs": [],
   "source": [
    "l = [('Sachin Tendulkar', 34357), ('Ricky Ponting', 27483), ('Jack Kallis', 25534), ('Virat Kohli', 24936)]"
   ]
  },
  {
   "cell_type": "code",
   "execution_count": 32,
   "id": "f6e1ab02-811e-4c62-b045-80dc09bbe6e6",
   "metadata": {},
   "outputs": [
    {
     "data": {
      "text/plain": [
       "(<function __main__.<lambda>(x)>,\n",
       " [('Sachin Tendulkar', 34357),\n",
       "  ('Ricky Ponting', 27483),\n",
       "  ('Jack Kallis', 25534),\n",
       "  ('Virat Kohli', 24936)])"
      ]
     },
     "execution_count": 32,
     "metadata": {},
     "output_type": "execute_result"
    }
   ],
   "source": [
    "(lambda x: type(x)==int or type(x)==float , l)"
   ]
  },
  {
   "cell_type": "code",
   "execution_count": null,
   "id": "2af5fc17-40c3-4870-b07b-d66646df9b65",
   "metadata": {},
   "outputs": [],
   "source": []
  },
  {
   "cell_type": "code",
   "execution_count": 11,
   "id": "1e67f33b-8d50-4808-99d9-313ae71e3005",
   "metadata": {},
   "outputs": [
    {
     "name": "stdout",
     "output_type": "stream",
     "text": [
      "34357\n",
      "27483\n",
      "25534\n",
      "24936\n"
     ]
    }
   ],
   "source": [
    "for i in l:\n",
    "    for j in i:\n",
    "        if type (j) == int:\n",
    "            print(j)\n"
   ]
  },
  {
   "cell_type": "code",
   "execution_count": null,
   "id": "416ff67f-8fba-46d4-926f-aa74046da655",
   "metadata": {},
   "outputs": [],
   "source": []
  },
  {
   "cell_type": "markdown",
   "id": "6352cccc-f4c2-4f9b-a8ed-416b0d5da018",
   "metadata": {},
   "source": [
    "# Q2. Write a Python Program to find the squares of all the numbers in the given list of integers using lambda and map functions.\n",
    "\n",
    "# [1, 2, 3, 4, 5, 6, 7, 8, 9, 10]"
   ]
  },
  {
   "cell_type": "code",
   "execution_count": 12,
   "id": "a0f2dc96-4614-46aa-b293-974fa662c981",
   "metadata": {},
   "outputs": [],
   "source": [
    "l=[1, 2, 3, 4, 5, 6, 7, 8, 9, 10]"
   ]
  },
  {
   "cell_type": "code",
   "execution_count": 13,
   "id": "7f9c8e2c-972c-468b-85e5-4a6dbe3312fb",
   "metadata": {},
   "outputs": [
    {
     "data": {
      "text/plain": [
       "[1, 4, 9, 16, 25, 36, 49, 64, 81, 100]"
      ]
     },
     "execution_count": 13,
     "metadata": {},
     "output_type": "execute_result"
    }
   ],
   "source": [
    "list(map(lambda a:a**2, l))"
   ]
  },
  {
   "cell_type": "code",
   "execution_count": null,
   "id": "f1f16e76-8e3b-4de9-bb29-357c0d20db6c",
   "metadata": {},
   "outputs": [],
   "source": []
  },
  {
   "cell_type": "markdown",
   "id": "e30f5a7a-10b5-4416-8ba0-ca272c1d4d89",
   "metadata": {},
   "source": [
    "# Q3. Write a python program to convert the given list of integers into a tuple of strings. Use map and lambda functions\n",
    "\n",
    "# Given String: [1, 2, 3, 4, 5, 6, 7, 8, 9, 10]\n",
    "# Expected output: ('1', '2', '3', '4', '5', '6', '7', '8', '9', '10')"
   ]
  },
  {
   "cell_type": "code",
   "execution_count": 37,
   "id": "d8049d05-5cee-4af0-b480-480322824f1a",
   "metadata": {},
   "outputs": [],
   "source": [
    "l= [1, 2, 3, 4, 5, 6, 7, 8, 9, 10]"
   ]
  },
  {
   "cell_type": "code",
   "execution_count": 38,
   "id": "77f8e3dd-18bd-4061-ac38-4003bf7b367c",
   "metadata": {},
   "outputs": [
    {
     "data": {
      "text/plain": [
       "('1', '2', '3', '4', '5', '6', '7', '8', '9', '10')"
      ]
     },
     "execution_count": 38,
     "metadata": {},
     "output_type": "execute_result"
    }
   ],
   "source": [
    "tuple(map(lambda a: str(a), l))"
   ]
  },
  {
   "cell_type": "code",
   "execution_count": null,
   "id": "3da17dd5-58cd-4212-a903-a70fbd71076d",
   "metadata": {},
   "outputs": [],
   "source": []
  },
  {
   "cell_type": "markdown",
   "id": "7b60a1e2-58be-4335-b52f-846835d49468",
   "metadata": {},
   "source": [
    "# Q4. Write a python program using reduce function to compute the product of a list containing numbers from 1 to 25.\n"
   ]
  },
  {
   "cell_type": "code",
   "execution_count": 24,
   "id": "d2512236-7560-4cb9-9497-5573fb7ede6e",
   "metadata": {},
   "outputs": [
    {
     "name": "stdout",
     "output_type": "stream",
     "text": [
      "[1, 2, 3, 4, 5, 6, 7, 8, 9, 10, 11, 12, 13, 14, 15, 16, 17, 18, 19, 20, 21, 22, 23, 24, 25]\n"
     ]
    }
   ],
   "source": [
    "n=[]\n",
    "for i in range (1,26):\n",
    "    n.append(i)\n",
    "print (n)\n",
    "    "
   ]
  },
  {
   "cell_type": "code",
   "execution_count": 25,
   "id": "44d151a6-d9bd-4565-bd6f-b7aeb7b2de8b",
   "metadata": {},
   "outputs": [],
   "source": [
    "from functools import reduce"
   ]
  },
  {
   "cell_type": "code",
   "execution_count": 26,
   "id": "3f66ffd5-6fd8-4748-951c-357fb124157f",
   "metadata": {},
   "outputs": [
    {
     "data": {
      "text/plain": [
       "15511210043330985984000000"
      ]
     },
     "execution_count": 26,
     "metadata": {},
     "output_type": "execute_result"
    }
   ],
   "source": [
    "reduce(lambda x,y: x*y, n)"
   ]
  },
  {
   "cell_type": "code",
   "execution_count": null,
   "id": "5f109db7-731a-40bc-9619-2c1444ab1a19",
   "metadata": {},
   "outputs": [],
   "source": []
  },
  {
   "cell_type": "markdown",
   "id": "15803f03-4edb-4adf-8387-43d66ebf4175",
   "metadata": {},
   "source": [
    "# Q5. Write a python program to filter the numbers in a given list that are divisible by 2 and 3 using the filter function.\n",
    "\n",
    "# [2, 3, 6, 9, 27, 60, 90, 120, 55, 46]"
   ]
  },
  {
   "cell_type": "code",
   "execution_count": 13,
   "id": "fdad62e1-63c0-440f-93d9-9b85e5138fb4",
   "metadata": {},
   "outputs": [],
   "source": [
    "l1=[2, 3, 6, 9, 27, 60, 90, 120, 55, 46]"
   ]
  },
  {
   "cell_type": "code",
   "execution_count": 33,
   "id": "c6a9303d-fc6a-40a3-8ecd-14ea47ec1d80",
   "metadata": {},
   "outputs": [
    {
     "data": {
      "text/plain": [
       "(6, 60, 90, 120)"
      ]
     },
     "execution_count": 33,
     "metadata": {},
     "output_type": "execute_result"
    }
   ],
   "source": [
    "tuple(filter(lambda x : x%2==0 and x%3==0, l1))"
   ]
  },
  {
   "cell_type": "code",
   "execution_count": null,
   "id": "9c7da8f2-c202-47db-96e8-bc4f03386f61",
   "metadata": {},
   "outputs": [],
   "source": []
  },
  {
   "cell_type": "markdown",
   "id": "1b981b06-34aa-4a35-972e-0667a2f4a4df",
   "metadata": {},
   "source": [
    "# Q6. Write a python program to find palindromes in the given list of strings using lambda and filter function.\n",
    "\n",
    "# ['python', 'php', 'aba', 'radar', 'level']"
   ]
  },
  {
   "cell_type": "code",
   "execution_count": 15,
   "id": "5ee172ed-84d8-4d1a-b2af-261636a5e225",
   "metadata": {},
   "outputs": [],
   "source": [
    "l2=['python', 'php', 'aba', 'radar', 'level']"
   ]
  },
  {
   "cell_type": "code",
   "execution_count": 21,
   "id": "26ccb0b3-0acc-42d5-99f3-2ddb6e397748",
   "metadata": {},
   "outputs": [
    {
     "data": {
      "text/plain": [
       "('php', 'aba', 'radar', 'level')"
      ]
     },
     "execution_count": 21,
     "metadata": {},
     "output_type": "execute_result"
    }
   ],
   "source": [
    "tuple(filter(lambda x: x==x[::-1],l2))"
   ]
  },
  {
   "cell_type": "code",
   "execution_count": 16,
   "id": "4aee1b87-e350-466b-8645-9ed5100cb174",
   "metadata": {},
   "outputs": [],
   "source": []
  },
  {
   "cell_type": "code",
   "execution_count": null,
   "id": "ddf6cec5-6f51-4515-abb5-dc2397beed4f",
   "metadata": {},
   "outputs": [],
   "source": []
  },
  {
   "cell_type": "code",
   "execution_count": null,
   "id": "089d0ff2-c228-46c4-ad50-6c3b9951c2e6",
   "metadata": {},
   "outputs": [],
   "source": []
  }
 ],
 "metadata": {
  "kernelspec": {
   "display_name": "Python 3 (ipykernel)",
   "language": "python",
   "name": "python3"
  },
  "language_info": {
   "codemirror_mode": {
    "name": "ipython",
    "version": 3
   },
   "file_extension": ".py",
   "mimetype": "text/x-python",
   "name": "python",
   "nbconvert_exporter": "python",
   "pygments_lexer": "ipython3",
   "version": "3.10.8"
  }
 },
 "nbformat": 4,
 "nbformat_minor": 5
}

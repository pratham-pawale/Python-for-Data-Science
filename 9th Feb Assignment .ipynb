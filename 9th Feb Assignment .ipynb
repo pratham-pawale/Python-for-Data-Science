{
 "cells": [
  {
   "cell_type": "markdown",
   "id": "84e92b59-8431-49fe-b65a-afbfca7da078",
   "metadata": {},
   "source": [
    "# Q1, Create a vehicle class with an init method having instance variables as name_of_vehicle, max_speed and average_of_vehicle.\n"
   ]
  },
  {
   "cell_type": "code",
   "execution_count": 71,
   "id": "6784651e-5617-45e8-8812-4452afc247ca",
   "metadata": {},
   "outputs": [],
   "source": [
    "class Vehicle:\n",
    "    def __init__(self, vehicle_name,max_speed,avg_vehicle):\n",
    "        self.vehicle_name= vehicle_name\n",
    "        self.max_speed= max_speed\n",
    "        self.avg_vehicle= avg_vehicle\n",
    "        \n",
    "    def vehical_detrails(self):\n",
    "        print(self.vehicle_name, self.max_speed, self.avg_vehicle)"
   ]
  },
  {
   "cell_type": "code",
   "execution_count": 72,
   "id": "6663ff6c-e56b-47c4-9baf-db1547df7e46",
   "metadata": {},
   "outputs": [],
   "source": [
    "vehicle1=vehicle('maruti', 110,50)"
   ]
  },
  {
   "cell_type": "code",
   "execution_count": 73,
   "id": "ec7da17d-3aa6-42d0-81a9-e9babb070d2b",
   "metadata": {},
   "outputs": [
    {
     "data": {
      "text/plain": [
       "50"
      ]
     },
     "execution_count": 73,
     "metadata": {},
     "output_type": "execute_result"
    }
   ],
   "source": [
    "vehicle1.avg_vehicle"
   ]
  },
  {
   "cell_type": "code",
   "execution_count": 74,
   "id": "837bf18b-63ac-4832-8cb5-6915c5542b57",
   "metadata": {},
   "outputs": [
    {
     "name": "stdout",
     "output_type": "stream",
     "text": [
      "maruti 110 50\n"
     ]
    }
   ],
   "source": [
    "vehicle1.vehical_detrails()"
   ]
  },
  {
   "cell_type": "code",
   "execution_count": null,
   "id": "20972021-674c-43e2-986e-953c367b796b",
   "metadata": {},
   "outputs": [],
   "source": []
  },
  {
   "cell_type": "code",
   "execution_count": null,
   "id": "45bf32c1-ef39-47d5-90cd-6d56d087aacb",
   "metadata": {},
   "outputs": [],
   "source": []
  },
  {
   "cell_type": "markdown",
   "id": "7f181904-7ddd-4acf-a762-3065616a23b7",
   "metadata": {},
   "source": [
    "# Q2. Create a child class car from the vehicle class created in Que 1, which will inherit the vehicle class.\n",
    "# Create a method named seating_capacity which takes capacity as an argument and returns the name of the vehicle and its seating capacity.\n"
   ]
  },
  {
   "cell_type": "code",
   "execution_count": 81,
   "id": "f3696249-bcea-42f4-bf59-630a2246166a",
   "metadata": {},
   "outputs": [],
   "source": [
    "class Car(Vehicle):\n",
    "    def seating_capacity(self, allowed_passengers):\n",
    "        self.allowed_passengers=allowed_passengers\n",
    "        \n",
    "    def final_details(self):   \n",
    "        print(self.vehicle_name,self.allowed_passengers)"
   ]
  },
  {
   "cell_type": "code",
   "execution_count": 85,
   "id": "7958b00f-8a0c-4f2f-a56a-b77645700514",
   "metadata": {},
   "outputs": [],
   "source": [
    "v=Car('Maruti',120,105)"
   ]
  },
  {
   "cell_type": "code",
   "execution_count": 86,
   "id": "b6084c65-3dd4-457b-8328-783abdfb7e88",
   "metadata": {},
   "outputs": [],
   "source": [
    "v.seating_capacity(5)"
   ]
  },
  {
   "cell_type": "code",
   "execution_count": 87,
   "id": "b003836c-21ce-439a-99f3-7d015f423f05",
   "metadata": {},
   "outputs": [
    {
     "name": "stdout",
     "output_type": "stream",
     "text": [
      "Maruti 5\n"
     ]
    }
   ],
   "source": [
    "v.final_details()"
   ]
  },
  {
   "cell_type": "code",
   "execution_count": null,
   "id": "c24dfbcd-1286-4fff-8c7a-0634ff2d787d",
   "metadata": {},
   "outputs": [],
   "source": []
  },
  {
   "cell_type": "code",
   "execution_count": null,
   "id": "85a34b4d-852a-4774-a549-8b82bdcd5bcc",
   "metadata": {},
   "outputs": [],
   "source": []
  },
  {
   "cell_type": "markdown",
   "id": "4d4032bf-e2e4-47f1-943e-94c4d49eec8f",
   "metadata": {},
   "source": [
    "# Q3. What is multiple inheritance? Write a python code to demonstrate multiple inheritance."
   ]
  },
  {
   "cell_type": "markdown",
   "id": "82cc41f4-68ca-44ac-a868-46c003aa5034",
   "metadata": {},
   "source": [
    "## ANS\n",
    "        Multiple inheritance means one class accesses to many classes.\n",
    "        eg- a,b,c are three different classes \n",
    "         a has some functions b has some functions\n",
    "         so c will access to both the classes a nad b"
   ]
  },
  {
   "cell_type": "code",
   "execution_count": 88,
   "id": "3252f182-ab7b-490c-b37d-0112cba68d57",
   "metadata": {},
   "outputs": [],
   "source": [
    "class a:\n",
    "    def test1(self):\n",
    "        print('this is class a')"
   ]
  },
  {
   "cell_type": "code",
   "execution_count": 89,
   "id": "986a95ab-f127-4b16-8e0f-149e922c77f0",
   "metadata": {},
   "outputs": [],
   "source": [
    "class b:\n",
    "    def test2(self):\n",
    "        print('this is class b')"
   ]
  },
  {
   "cell_type": "code",
   "execution_count": 90,
   "id": "7534e341-f837-44c8-8c47-36893eae0b3c",
   "metadata": {},
   "outputs": [],
   "source": [
    "class c(a,b):\n",
    "    pass"
   ]
  },
  {
   "cell_type": "code",
   "execution_count": 94,
   "id": "3b7791ff-95a6-4bb7-9651-d2aafc2773f2",
   "metadata": {},
   "outputs": [],
   "source": [
    "abc= c()"
   ]
  },
  {
   "cell_type": "code",
   "execution_count": 96,
   "id": "fe21d1b5-e2ef-45bd-b8a0-713589f99ebd",
   "metadata": {},
   "outputs": [
    {
     "name": "stdout",
     "output_type": "stream",
     "text": [
      "this is class a\n"
     ]
    }
   ],
   "source": [
    "abc.test1()"
   ]
  },
  {
   "cell_type": "code",
   "execution_count": 97,
   "id": "9cb1e84e-d6eb-4c4b-b25e-7cf801b5e770",
   "metadata": {},
   "outputs": [
    {
     "name": "stdout",
     "output_type": "stream",
     "text": [
      "this is class b\n"
     ]
    }
   ],
   "source": [
    "abc.test2()"
   ]
  },
  {
   "cell_type": "code",
   "execution_count": null,
   "id": "db09a7a5-dfe2-40e3-b4ce-fb9a0cffe02a",
   "metadata": {},
   "outputs": [],
   "source": []
  },
  {
   "cell_type": "code",
   "execution_count": null,
   "id": "951fb066-27ee-4532-ae59-a062b2e8e751",
   "metadata": {},
   "outputs": [],
   "source": []
  },
  {
   "cell_type": "markdown",
   "id": "4217e63c-0b6a-4192-9fda-e979cde33a83",
   "metadata": {},
   "source": [
    "# Q4. What are getter and setter in python? Create a class and create a getter and a setter method in this class."
   ]
  },
  {
   "cell_type": "markdown",
   "id": "a1386743-68d6-4d96-8972-cd87f821a242",
   "metadata": {},
   "source": [
    "## ANS\n",
    "        getter and setter method is used when the fuction in the class is hidden from the public\n",
    "        getter is used to access the hidden function \n",
    "        setter is used to assign the new values to the hidden function"
   ]
  },
  {
   "cell_type": "code",
   "execution_count": 11,
   "id": "cf44dc7a-f9f5-45a9-8ef4-03b6a302c0bb",
   "metadata": {},
   "outputs": [],
   "source": [
    "class abc:\n",
    "    def __init__(self, student_name,student_mobile):\n",
    "        self.student_name=student_name\n",
    "        self.__student_mobile=student_mobile\n",
    "        \n",
    "    @property\n",
    "    def student_mobile_access(self):\n",
    "        return self.__student_mobile\n",
    "    \n",
    "    @student_mobile_access.setter\n",
    "    def student_mobile_set(self,mobile):\n",
    "        self.__student_mobile=mobile"
   ]
  },
  {
   "cell_type": "code",
   "execution_count": 12,
   "id": "8d383c67-52c6-4424-8194-2d214e2dc95c",
   "metadata": {},
   "outputs": [],
   "source": [
    "a=abc('pratham',123456)"
   ]
  },
  {
   "cell_type": "code",
   "execution_count": 13,
   "id": "f6b3aef0-382f-4330-8472-e7111695fb48",
   "metadata": {},
   "outputs": [
    {
     "data": {
      "text/plain": [
       "123456"
      ]
     },
     "execution_count": 13,
     "metadata": {},
     "output_type": "execute_result"
    }
   ],
   "source": [
    "a.student_mobile_access"
   ]
  },
  {
   "cell_type": "code",
   "execution_count": 14,
   "id": "98f9fbde-921e-4c32-8aa5-bd7e547713fa",
   "metadata": {},
   "outputs": [],
   "source": [
    "a.student_mobile_set=987654"
   ]
  },
  {
   "cell_type": "code",
   "execution_count": 15,
   "id": "38e79b8b-9959-4ac2-90e4-7f06770897d5",
   "metadata": {},
   "outputs": [
    {
     "data": {
      "text/plain": [
       "987654"
      ]
     },
     "execution_count": 15,
     "metadata": {},
     "output_type": "execute_result"
    }
   ],
   "source": [
    "a.student_mobile_access"
   ]
  },
  {
   "cell_type": "code",
   "execution_count": null,
   "id": "66627d62-831d-4377-8c18-4fe858d965bc",
   "metadata": {},
   "outputs": [],
   "source": []
  },
  {
   "cell_type": "code",
   "execution_count": null,
   "id": "cecd3fd0-babf-4729-a385-69846be93649",
   "metadata": {},
   "outputs": [],
   "source": []
  },
  {
   "cell_type": "markdown",
   "id": "4444f506-64ba-4597-b8b0-647979da6610",
   "metadata": {},
   "source": [
    "# Q5.What is method overriding in python? Write a python code to demonstrate method overriding."
   ]
  },
  {
   "cell_type": "markdown",
   "id": "e4acb9a3-9875-4cf3-b0cd-d946c4702696",
   "metadata": {},
   "source": [
    "method overriding means subclass can define a method with same name in the superclass or parent class.\n",
    "it allows the the child class to implment its own functions"
   ]
  },
  {
   "cell_type": "code",
   "execution_count": 16,
   "id": "0657267c-d8f8-4ada-82b9-4ef81d6bdc43",
   "metadata": {},
   "outputs": [],
   "source": [
    "class school:\n",
    "    def timing(self):\n",
    "        print('School timing is 8am to 2pm')\n",
    "class teacher(school):\n",
    "    def timing(self):\n",
    "        print('teacher is supposed to come 15 min earlier')\n",
    "class student(school):\n",
    "    def timing(self):\n",
    "        print('students should come on time')"
   ]
  },
  {
   "cell_type": "code",
   "execution_count": 18,
   "id": "f8c7cfc4-2dd6-4748-ac7e-d8e7aade9f8c",
   "metadata": {},
   "outputs": [],
   "source": [
    "a=student()"
   ]
  },
  {
   "cell_type": "code",
   "execution_count": 21,
   "id": "caeb6828-e4c3-40e0-bf1c-107a712a9b25",
   "metadata": {},
   "outputs": [
    {
     "name": "stdout",
     "output_type": "stream",
     "text": [
      "students should come on time\n"
     ]
    }
   ],
   "source": [
    "a.timing()"
   ]
  },
  {
   "cell_type": "code",
   "execution_count": 22,
   "id": "d8673490-130b-416e-a335-2d6b24b1736d",
   "metadata": {},
   "outputs": [],
   "source": [
    "b=teacher()"
   ]
  },
  {
   "cell_type": "code",
   "execution_count": 23,
   "id": "c42edb87-268e-4f38-9611-66c139d7b9d8",
   "metadata": {},
   "outputs": [
    {
     "name": "stdout",
     "output_type": "stream",
     "text": [
      "teacher is supposed to come 15 min earlier\n"
     ]
    }
   ],
   "source": [
    "b.timing()"
   ]
  },
  {
   "cell_type": "code",
   "execution_count": null,
   "id": "f1114625-034f-4e29-9f0b-1806f9202d8a",
   "metadata": {},
   "outputs": [],
   "source": []
  }
 ],
 "metadata": {
  "kernelspec": {
   "display_name": "Python 3 (ipykernel)",
   "language": "python",
   "name": "python3"
  },
  "language_info": {
   "codemirror_mode": {
    "name": "ipython",
    "version": 3
   },
   "file_extension": ".py",
   "mimetype": "text/x-python",
   "name": "python",
   "nbconvert_exporter": "python",
   "pygments_lexer": "ipython3",
   "version": "3.10.8"
  }
 },
 "nbformat": 4,
 "nbformat_minor": 5
}

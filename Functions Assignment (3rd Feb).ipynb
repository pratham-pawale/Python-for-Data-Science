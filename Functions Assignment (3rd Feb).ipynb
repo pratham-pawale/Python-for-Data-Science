{
 "cells": [
  {
   "cell_type": "markdown",
   "id": "31c7d084-d10b-4d0f-a84f-1940fe8159ec",
   "metadata": {},
   "source": [
    "# Q1. Which keyword is used to create a function? Create a function to return a list of odd numbers in the range of 1 to 25.\n"
   ]
  },
  {
   "cell_type": "markdown",
   "id": "ce6886a4-e319-4a93-8811-c65a15f6a685",
   "metadata": {},
   "source": [
    "## ANS-\n",
    "        'def' keyword is used to create the function"
   ]
  },
  {
   "cell_type": "code",
   "execution_count": 11,
   "id": "e6c02ed7-b3ee-41eb-87d0-ba54093ead7f",
   "metadata": {},
   "outputs": [],
   "source": [
    "l1=[1,2,3,4,5,6,7,8,9,10,11,12,13,14,15,16,17,18,19,20,21,22,23,24,25,26]\n"
   ]
  },
  {
   "cell_type": "code",
   "execution_count": 2,
   "id": "51484601-6fae-493c-b79a-c1ab7b76412e",
   "metadata": {},
   "outputs": [],
   "source": [
    "def test1(a):\n",
    "    n=[]\n",
    "    for i in a:\n",
    "        if i%2!=0:\n",
    "            n.append(i)\n",
    "    return n"
   ]
  },
  {
   "cell_type": "code",
   "execution_count": 3,
   "id": "16f57970-a2c8-4b2a-8774-83e90c322dde",
   "metadata": {},
   "outputs": [
    {
     "data": {
      "text/plain": [
       "[1, 3, 5, 7, 9, 11, 13, 15, 17, 19, 21, 23, 25]"
      ]
     },
     "execution_count": 3,
     "metadata": {},
     "output_type": "execute_result"
    }
   ],
   "source": [
    "test1(l1)"
   ]
  },
  {
   "cell_type": "code",
   "execution_count": 4,
   "id": "102383b9-fb38-45e9-b641-c1b0094f7bda",
   "metadata": {},
   "outputs": [],
   "source": [
    "def test1():\n",
    "    n=[]\n",
    "    for i in range(1,26):\n",
    "        if i%2!=0:\n",
    "            n.append(i)\n",
    "    return n"
   ]
  },
  {
   "cell_type": "code",
   "execution_count": 5,
   "id": "2e2db234-8a71-4270-8e47-c33390660ff5",
   "metadata": {},
   "outputs": [
    {
     "data": {
      "text/plain": [
       "[1, 3, 5, 7, 9, 11, 13, 15, 17, 19, 21, 23, 25]"
      ]
     },
     "execution_count": 5,
     "metadata": {},
     "output_type": "execute_result"
    }
   ],
   "source": [
    "test1()"
   ]
  },
  {
   "cell_type": "code",
   "execution_count": 22,
   "id": "c74660ac-6140-43c8-b910-6b5c82ad60d1",
   "metadata": {},
   "outputs": [
    {
     "data": {
      "text/plain": [
       "[1, 3, 5, 7, 9, 11, 13, 15, 17, 19, 21, 23, 25]"
      ]
     },
     "execution_count": 22,
     "metadata": {},
     "output_type": "execute_result"
    }
   ],
   "source": [
    "list(filter(lambda x: x%2!=0 , l1))"
   ]
  },
  {
   "cell_type": "code",
   "execution_count": null,
   "id": "29b3644d-11f3-42d9-acd0-ee9125c73c01",
   "metadata": {},
   "outputs": [],
   "source": []
  },
  {
   "cell_type": "markdown",
   "id": "6a627549-3bb5-4d40-a0f6-a24e2f4d23a6",
   "metadata": {},
   "source": [
    "# Q2. Why *args and **kwargs is used in some functions? Create a function each for *args and **kwargs to demonstrate their use."
   ]
  },
  {
   "cell_type": "markdown",
   "id": "453f1251-0e37-4e79-b125-74cc87b4df99",
   "metadata": {},
   "source": [
    "## ANS \n",
    "        '*args' is used for adding any no. of arguments inside the function.\n",
    "        we can anythind word instead of arg eg'*abc'"
   ]
  },
  {
   "cell_type": "code",
   "execution_count": 10,
   "id": "36b7b15a-a10f-42bb-a24e-59e9c8615749",
   "metadata": {},
   "outputs": [],
   "source": [
    "# Eg-\n",
    "def test2(*arg):\n",
    "    return arg"
   ]
  },
  {
   "cell_type": "code",
   "execution_count": 12,
   "id": "3c1b138b-e8d3-4269-9540-bb9f9fe25719",
   "metadata": {},
   "outputs": [
    {
     "data": {
      "text/plain": [
       "(1, 2, 3, 4, 5, ['a,c,b,d'], 'fr,g,h,e,b')"
      ]
     },
     "execution_count": 12,
     "metadata": {},
     "output_type": "execute_result"
    }
   ],
   "source": [
    "test2(1,2,3,4,5,['a,c,b,d'],('fr,g,h,e,b'))"
   ]
  },
  {
   "cell_type": "markdown",
   "id": "9f546c8d-380b-46b7-ab40-23b55bd07eb4",
   "metadata": {},
   "source": [
    "## ANS\n",
    "        '**args' is used for storing the data in the form of key and value pair."
   ]
  },
  {
   "cell_type": "code",
   "execution_count": 13,
   "id": "cb776818-5420-4994-8ce1-7f5d88767ca2",
   "metadata": {},
   "outputs": [],
   "source": [
    "#Eg-\n",
    "def test3(**arg):\n",
    "    return arg"
   ]
  },
  {
   "cell_type": "code",
   "execution_count": 14,
   "id": "f2c17c3b-3d7c-400b-ad01-ade9028e4327",
   "metadata": {},
   "outputs": [
    {
     "data": {
      "text/plain": [
       "{'a': 1, 'b': 2, 'c': [1, 2, 3], 'd': ('pratham', 'pwskills')}"
      ]
     },
     "execution_count": 14,
     "metadata": {},
     "output_type": "execute_result"
    }
   ],
   "source": [
    "test3(a=1, b=2, c=[1,2,3], d=('pratham','pwskills'))"
   ]
  },
  {
   "cell_type": "code",
   "execution_count": null,
   "id": "0dc745dd-8073-4c0c-b255-dcf7abe9cb5e",
   "metadata": {},
   "outputs": [],
   "source": []
  },
  {
   "cell_type": "code",
   "execution_count": null,
   "id": "df72e3c2-0cc5-40a6-968f-b915ad25950a",
   "metadata": {},
   "outputs": [],
   "source": []
  },
  {
   "cell_type": "markdown",
   "id": "094ab3e2-2a18-43db-a820-8db689823078",
   "metadata": {},
   "source": [
    "# Q3. What is an iterator in python? Name the method used to initialise the iterator object and the method used for iteration. Use these methods to print the first five elements of the given list [2, 4, 6, 8, 10, 12, 14, 16,18, 20].\n",
    "\n"
   ]
  },
  {
   "cell_type": "code",
   "execution_count": null,
   "id": "1e275a9d-7bc3-4ac8-b12c-3f6492bda34a",
   "metadata": {},
   "outputs": [],
   "source": []
  },
  {
   "cell_type": "code",
   "execution_count": 3,
   "id": "abdd509a-7e2d-4be3-b3cc-ff6ccb3f2057",
   "metadata": {},
   "outputs": [],
   "source": [
    "l= [2, 4, 6, 8, 10, 12, 14, 16,18, 20]"
   ]
  },
  {
   "cell_type": "code",
   "execution_count": 4,
   "id": "30f99e3a-e25b-4e34-921d-d1c7b5b6746d",
   "metadata": {},
   "outputs": [],
   "source": [
    "def test4():\n",
    "    n=[]\n",
    "    for i in l:\n",
    "        print( l[0:5])\n",
    "        break     "
   ]
  },
  {
   "cell_type": "code",
   "execution_count": 5,
   "id": "249fbe34-3ea5-41e4-a1f8-5f75970d1c07",
   "metadata": {},
   "outputs": [
    {
     "name": "stdout",
     "output_type": "stream",
     "text": [
      "[2, 4, 6, 8, 10]\n"
     ]
    }
   ],
   "source": [
    "test4()"
   ]
  },
  {
   "cell_type": "code",
   "execution_count": null,
   "id": "4a79eaad-dd92-402e-9697-3dac2ef01a6a",
   "metadata": {},
   "outputs": [],
   "source": []
  },
  {
   "cell_type": "markdown",
   "id": "24c44c70-550a-43e6-84bf-d9f9977d928b",
   "metadata": {},
   "source": [
    "# Q4. What is a generator function in python? Why yield keyword is used? Give an example of a generator function.\n"
   ]
  },
  {
   "cell_type": "markdown",
   "id": "40e984e3-4231-46f9-8bf3-88a16e03aa35",
   "metadata": {},
   "source": [
    "# ANS\n",
    "        generator function in python is used to generate the sequence of data through which data is not stored in the memory.\n",
    "        it generates the data and immediately gives back"
   ]
  },
  {
   "cell_type": "code",
   "execution_count": 49,
   "id": "9456acce-71ac-497e-adf7-e46d1a586400",
   "metadata": {},
   "outputs": [],
   "source": [
    "def fun_gen(n):\n",
    "    a=0\n",
    "    for i in range(n):\n",
    "        a +=2\n",
    "        yield a\n",
    "    "
   ]
  },
  {
   "cell_type": "code",
   "execution_count": 54,
   "id": "c4261faa-9771-4149-b620-d92b7657db69",
   "metadata": {},
   "outputs": [
    {
     "name": "stdout",
     "output_type": "stream",
     "text": [
      "2 4 6 8 10 12 14 16 18 20 "
     ]
    }
   ],
   "source": [
    "for i in fun_gen(10):\n",
    "    print (i,end=' ')"
   ]
  },
  {
   "cell_type": "markdown",
   "id": "0b3aafa9-ddb3-47c8-9c83-ac6fe500b1a2",
   "metadata": {},
   "source": [
    "# Q5. Create a generator function for prime numbers less than 1000. Use the next() method to print the first 20 prime numbers.\n"
   ]
  },
  {
   "cell_type": "code",
   "execution_count": 42,
   "id": "ea2770c1-350e-43d6-8439-08cda6641b86",
   "metadata": {},
   "outputs": [
    {
     "ename": "TypeError",
     "evalue": "iter(v, w): v must be callable",
     "output_type": "error",
     "traceback": [
      "\u001b[0;31m---------------------------------------------------------------------------\u001b[0m",
      "\u001b[0;31mTypeError\u001b[0m                                 Traceback (most recent call last)",
      "Cell \u001b[0;32mIn[42], line 1\u001b[0m\n\u001b[0;32m----> 1\u001b[0m a\u001b[38;5;241m=\u001b[39m \u001b[38;5;28;43miter\u001b[39;49m\u001b[43m(\u001b[49m\u001b[38;5;241;43m0\u001b[39;49m\u001b[43m,\u001b[49m\u001b[38;5;241;43m1000\u001b[39;49m\u001b[43m)\u001b[49m\n\u001b[1;32m      2\u001b[0m \u001b[38;5;28;01mfor\u001b[39;00m i \u001b[38;5;129;01min\u001b[39;00m \u001b[38;5;28mrange\u001b[39m (\u001b[38;5;241m20\u001b[39m):\n\u001b[1;32m      3\u001b[0m     \u001b[38;5;28mprint\u001b[39m(\u001b[38;5;28mnext\u001b[39m(a))\n",
      "\u001b[0;31mTypeError\u001b[0m: iter(v, w): v must be callable"
     ]
    }
   ],
   "source": [
    "a= iter(0,1000)\n",
    "for i in range (20):\n",
    "    print(next(a))"
   ]
  },
  {
   "cell_type": "code",
   "execution_count": null,
   "id": "8c8884d9-0717-4873-bc42-219640fcd69c",
   "metadata": {},
   "outputs": [],
   "source": []
  },
  {
   "cell_type": "code",
   "execution_count": null,
   "id": "bb82ec38-e7f8-4fb9-a835-cb1e2fccdee6",
   "metadata": {},
   "outputs": [],
   "source": []
  }
 ],
 "metadata": {
  "kernelspec": {
   "display_name": "Python 3 (ipykernel)",
   "language": "python",
   "name": "python3"
  },
  "language_info": {
   "codemirror_mode": {
    "name": "ipython",
    "version": 3
   },
   "file_extension": ".py",
   "mimetype": "text/x-python",
   "name": "python",
   "nbconvert_exporter": "python",
   "pygments_lexer": "ipython3",
   "version": "3.10.8"
  }
 },
 "nbformat": 4,
 "nbformat_minor": 5
}

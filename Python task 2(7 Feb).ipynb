{
 "cells": [
  {
   "cell_type": "markdown",
   "id": "91742ec3-4e90-4432-9389-27ac3fe2978b",
   "metadata": {},
   "source": [
    "# Q1. You are writing code for a company. The requirement of the company is that you create a python function that will check whether the password entered by the user is correct or not. The function should take the password as input and return the string “Valid Password” if the entered password follows the below-given password guidelines else it should return “Invalid Password”.\n",
    "\n",
    "\n",
    "\n",
    "# Note: 1. The Password should contain at least two uppercase letters and at least two lowercase letters.\n",
    "# 2. The Password should contain at least a number and three special characters.\n",
    "# 3. The length of the password should be 10 characters long."
   ]
  },
  {
   "cell_type": "code",
   "execution_count": 38,
   "id": "5be07397-30cd-4621-8c5b-30a70e1916cb",
   "metadata": {},
   "outputs": [],
   "source": [
    "def passwalid(password):\n",
    "    password=input('Enter the password')\n",
    "    upper_count=0\n",
    "    lower_count=0\n",
    "    digit_count=0\n",
    "    special_count=0\n",
    "    special_chars='!@#$%^&*;'\n",
    "    \n",
    "    for i in password:\n",
    "        if i.isupper():\n",
    "            upper_count+=1\n",
    "        elif i.islower():\n",
    "            lower_count+=1\n",
    "        elif i.isdigit():\n",
    "            digit_count+=1\n",
    "        elif i in special_chars:\n",
    "            special_count+=1\n",
    "            \n",
    "    if (len(password)==10 and upper_count<=2 and lower_count>=2 and digit_count>=1 and special_count>=3):\n",
    "        return(\"Valid\")\n",
    "    else:\n",
    "        return('InValid')"
   ]
  },
  {
   "cell_type": "code",
   "execution_count": 41,
   "id": "345be7aa-785d-4033-85ce-d631d196e7f9",
   "metadata": {},
   "outputs": [
    {
     "name": "stdin",
     "output_type": "stream",
     "text": [
      "Enter the password ASas!@#1fg\n"
     ]
    },
    {
     "data": {
      "text/plain": [
       "'Valid'"
      ]
     },
     "execution_count": 41,
     "metadata": {},
     "output_type": "execute_result"
    }
   ],
   "source": [
    "passwalid(password)\n"
   ]
  },
  {
   "cell_type": "code",
   "execution_count": null,
   "id": "8d1e323c-563b-4009-89c6-41261dc44928",
   "metadata": {},
   "outputs": [],
   "source": []
  },
  {
   "cell_type": "code",
   "execution_count": null,
   "id": "c130effe-b1c4-4cd2-a93d-6073a9d0471c",
   "metadata": {},
   "outputs": [],
   "source": []
  },
  {
   "cell_type": "code",
   "execution_count": null,
   "id": "02cb952f-6e6e-49c9-92eb-7b8e4c1c876c",
   "metadata": {},
   "outputs": [],
   "source": []
  },
  {
   "cell_type": "code",
   "execution_count": null,
   "id": "90bd2863-0ff7-4490-b919-433c125a8110",
   "metadata": {},
   "outputs": [],
   "source": []
  },
  {
   "cell_type": "markdown",
   "id": "26dc0a95-ac18-4951-aed4-7a280ce6403e",
   "metadata": {},
   "source": [
    "# Q2. Solve the below-given questions using at least one of the following:\n",
    "# 1. Lambda functioJ\n",
    "# 2. Filter functioJ\n",
    "# 3. Map functioJ\n",
    "# 4. List Comprehension\n",
    "\n",
    "\n",
    "# B Check if the string starts with a particular letterY\n",
    "# B Check if the string is numericY\n",
    "# B Sort a list of tuples having fruit names and their quantity. [(\"mango\",99),(\"orange\",80),(\"grapes\", 1000)]\n",
    "# B Find the squares of numbers from 1 to 10\n",
    "# B Find the cube root of numbers from 1 to 10\n",
    "# B Check if a given number is even\n",
    "# B Filter odd numbers from the given list. [1,2,3,4,5,6,7,8,9,10]\n",
    "\n",
    "# B Sort a list of integers into positive and negative integers lists. [1,2,3,4,5,6,-1,-2,-3,-4,-5,0]\n"
   ]
  },
  {
   "cell_type": "code",
   "execution_count": 42,
   "id": "8fa90744-ea71-48e6-a9f9-bab8a4828efc",
   "metadata": {},
   "outputs": [],
   "source": [
    "a='pratham','dfgg','ptett','fgfh','pgdtgh'"
   ]
  },
  {
   "cell_type": "code",
   "execution_count": 43,
   "id": "e9c1040f-24af-4fc5-b2c7-e0b9fd60f646",
   "metadata": {},
   "outputs": [
    {
     "data": {
      "text/plain": [
       "[True, False, True, False, True]"
      ]
     },
     "execution_count": 43,
     "metadata": {},
     "output_type": "execute_result"
    }
   ],
   "source": [
    "[i[0]=='p' for i in a]"
   ]
  },
  {
   "cell_type": "code",
   "execution_count": null,
   "id": "e20bf099-5d44-4491-921c-313cd12a60b1",
   "metadata": {},
   "outputs": [],
   "source": []
  },
  {
   "cell_type": "code",
   "execution_count": null,
   "id": "251a26ae-e52e-4eab-a2ce-968f29e52862",
   "metadata": {},
   "outputs": [],
   "source": []
  },
  {
   "cell_type": "code",
   "execution_count": 44,
   "id": "ead7d440-f321-41d3-812d-164a7e95e804",
   "metadata": {},
   "outputs": [],
   "source": [
    "b='1235','456541','tyhrfu'"
   ]
  },
  {
   "cell_type": "code",
   "execution_count": 45,
   "id": "f52f0530-653b-4f92-8c6a-161c50fa4cab",
   "metadata": {},
   "outputs": [
    {
     "data": {
      "text/plain": [
       "[True, True, False]"
      ]
     },
     "execution_count": 45,
     "metadata": {},
     "output_type": "execute_result"
    }
   ],
   "source": [
    "[i.isnumeric() for i in b]"
   ]
  },
  {
   "cell_type": "code",
   "execution_count": null,
   "id": "0bd0d439-c5ac-4c77-8b35-c18d20cd0850",
   "metadata": {},
   "outputs": [],
   "source": []
  },
  {
   "cell_type": "code",
   "execution_count": null,
   "id": "ff41f0d0-27d2-4a4a-9c55-4568409db6dd",
   "metadata": {},
   "outputs": [],
   "source": []
  },
  {
   "cell_type": "code",
   "execution_count": 46,
   "id": "84c5e7da-b30c-464b-b38c-cb763eb2a024",
   "metadata": {},
   "outputs": [],
   "source": [
    "t=[(\"mango\",99),(\"orange\",80), (\"grapes\", 1000)]"
   ]
  },
  {
   "cell_type": "code",
   "execution_count": 47,
   "id": "153b463a-d842-42bc-9813-76992b438356",
   "metadata": {},
   "outputs": [
    {
     "data": {
      "text/plain": [
       "['mango', 99, 'orange', 80, 'grapes', 1000]"
      ]
     },
     "execution_count": 47,
     "metadata": {},
     "output_type": "execute_result"
    }
   ],
   "source": [
    "[j for i in t for j in i ]"
   ]
  },
  {
   "cell_type": "code",
   "execution_count": null,
   "id": "7acad972-b2ff-4521-9ebc-b54c739a9d34",
   "metadata": {},
   "outputs": [],
   "source": []
  },
  {
   "cell_type": "code",
   "execution_count": null,
   "id": "82ec832d-fbef-4939-8800-79d81e715c2d",
   "metadata": {},
   "outputs": [],
   "source": []
  },
  {
   "cell_type": "code",
   "execution_count": 48,
   "id": "3ebb1532-b408-4280-a925-97b66ec41272",
   "metadata": {},
   "outputs": [],
   "source": [
    "a=range(0,11)"
   ]
  },
  {
   "cell_type": "code",
   "execution_count": 49,
   "id": "4ac5c0c8-af47-4a15-8dc8-1b10bb58a1e8",
   "metadata": {},
   "outputs": [
    {
     "data": {
      "text/plain": [
       "[0, 1, 4, 9, 16, 25, 36, 49, 64, 81, 100]"
      ]
     },
     "execution_count": 49,
     "metadata": {},
     "output_type": "execute_result"
    }
   ],
   "source": [
    "list(map(lambda x:x**2,a))"
   ]
  },
  {
   "cell_type": "code",
   "execution_count": null,
   "id": "78845089-10c9-4ee1-94fe-bd48ab0abacc",
   "metadata": {},
   "outputs": [],
   "source": []
  },
  {
   "cell_type": "code",
   "execution_count": null,
   "id": "bfecdb50-2e59-42e9-8c78-b1bc4d27c7c7",
   "metadata": {},
   "outputs": [],
   "source": []
  },
  {
   "cell_type": "code",
   "execution_count": 50,
   "id": "6d1be997-347e-4d2c-9cec-22cbddf6cd94",
   "metadata": {},
   "outputs": [],
   "source": [
    "b=range(0,11)"
   ]
  },
  {
   "cell_type": "code",
   "execution_count": 51,
   "id": "1e116813-9a5f-4322-95b3-2a77c88bb5ed",
   "metadata": {},
   "outputs": [
    {
     "data": {
      "text/plain": [
       "[0, 1, 8, 27, 64, 125, 216, 343, 512, 729, 1000]"
      ]
     },
     "execution_count": 51,
     "metadata": {},
     "output_type": "execute_result"
    }
   ],
   "source": [
    "list(map(lambda x:x**3,b))"
   ]
  },
  {
   "cell_type": "code",
   "execution_count": null,
   "id": "59f7643f-9628-4d6d-8604-70fa5e06919d",
   "metadata": {},
   "outputs": [],
   "source": []
  },
  {
   "cell_type": "code",
   "execution_count": null,
   "id": "29e5d09e-f820-4bfb-9145-23baa96bdd13",
   "metadata": {},
   "outputs": [],
   "source": []
  },
  {
   "cell_type": "code",
   "execution_count": 52,
   "id": "8cb8c7cd-77a9-4046-b232-1c39bcabf377",
   "metadata": {},
   "outputs": [],
   "source": [
    "c=[6]"
   ]
  },
  {
   "cell_type": "code",
   "execution_count": 53,
   "id": "087c464e-6c82-4f98-bdbd-71bcaad12625",
   "metadata": {},
   "outputs": [
    {
     "data": {
      "text/plain": [
       "[True]"
      ]
     },
     "execution_count": 53,
     "metadata": {},
     "output_type": "execute_result"
    }
   ],
   "source": [
    "[num%2==0 for num in c ]"
   ]
  },
  {
   "cell_type": "code",
   "execution_count": null,
   "id": "63fad345-c4bb-4510-9401-9c61457fbfea",
   "metadata": {},
   "outputs": [],
   "source": []
  },
  {
   "cell_type": "code",
   "execution_count": null,
   "id": "fbf5267c-2a38-4957-a339-d3f166228a5b",
   "metadata": {},
   "outputs": [],
   "source": []
  },
  {
   "cell_type": "code",
   "execution_count": 54,
   "id": "93b25b99-aafb-4b52-b9be-3ac107fbaf9d",
   "metadata": {},
   "outputs": [],
   "source": [
    "d=[1,2,3,4,5,6,7,8,9,10]"
   ]
  },
  {
   "cell_type": "code",
   "execution_count": 55,
   "id": "3ffce7b6-33d2-454f-843e-8c9c6c41fa69",
   "metadata": {},
   "outputs": [
    {
     "data": {
      "text/plain": [
       "[1, 3, 5, 7, 9]"
      ]
     },
     "execution_count": 55,
     "metadata": {},
     "output_type": "execute_result"
    }
   ],
   "source": [
    "list(filter(lambda x: x%2!=0,d))"
   ]
  },
  {
   "cell_type": "code",
   "execution_count": null,
   "id": "fdd19d7c-8e76-4d87-9e99-bcb1a5c041c4",
   "metadata": {},
   "outputs": [],
   "source": []
  },
  {
   "cell_type": "code",
   "execution_count": null,
   "id": "1e367daf-9e51-410e-9a05-1b8d7f2d0f1d",
   "metadata": {},
   "outputs": [],
   "source": []
  },
  {
   "cell_type": "code",
   "execution_count": 56,
   "id": "bc92faee-06a2-4990-a175-516d967632ba",
   "metadata": {},
   "outputs": [],
   "source": [
    "e=[1,2,3,4,5,6,-1,-2,-3,-4,-5,0]"
   ]
  },
  {
   "cell_type": "code",
   "execution_count": 57,
   "id": "fde59182-7e68-4be7-bb3f-a4cd66d08ce9",
   "metadata": {},
   "outputs": [
    {
     "name": "stdout",
     "output_type": "stream",
     "text": [
      "[1, 2, 3, 4, 5, 6, 0]\n",
      "[-1, -2, -3, -4, -5]\n"
     ]
    }
   ],
   "source": [
    "print(list(filter(lambda x: x>=0 ,e)))\n",
    "print(list(filter(lambda x: x<0,e)))"
   ]
  },
  {
   "cell_type": "code",
   "execution_count": null,
   "id": "48b253d9-b67f-48f4-9760-c750b455de40",
   "metadata": {},
   "outputs": [],
   "source": []
  },
  {
   "cell_type": "code",
   "execution_count": null,
   "id": "ee4656a9-b19e-472d-89f1-de801acc9041",
   "metadata": {},
   "outputs": [],
   "source": []
  }
 ],
 "metadata": {
  "kernelspec": {
   "display_name": "Python 3 (ipykernel)",
   "language": "python",
   "name": "python3"
  },
  "language_info": {
   "codemirror_mode": {
    "name": "ipython",
    "version": 3
   },
   "file_extension": ".py",
   "mimetype": "text/x-python",
   "name": "python",
   "nbconvert_exporter": "python",
   "pygments_lexer": "ipython3",
   "version": "3.10.8"
  }
 },
 "nbformat": 4,
 "nbformat_minor": 5
}

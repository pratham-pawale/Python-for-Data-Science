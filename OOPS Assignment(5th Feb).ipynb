{
 "cells": [
  {
   "cell_type": "markdown",
   "id": "257db4dc-c0d6-4aa2-a74c-cadcf7a1bad3",
   "metadata": {},
   "source": [
    "# Q1. Explain Class and Object with respect to Object-Oriented Programming. Give a suitable example."
   ]
  },
  {
   "cell_type": "markdown",
   "id": "019d1ad8-ebfa-448e-8230-459f85cb0bc1",
   "metadata": {},
   "source": [
    "## ANS-\n",
    "        class- class is a blueprint for creating the objects, which defines properties.\n",
    "        object- object is instance of class, it may have it own unique values.\n",
    "    \n",
    "    EG- if we take 'car' as an class\n",
    "        so the object will be parts of the car eg- engine, tyre, window, door, etc"
   ]
  },
  {
   "cell_type": "code",
   "execution_count": 2,
   "id": "5cfac35f-e593-4c3c-928d-05981b501455",
   "metadata": {},
   "outputs": [],
   "source": [
    "class car:\n",
    "    def parts(car):\n",
    "        print('door','engine','tyre','window')"
   ]
  },
  {
   "cell_type": "code",
   "execution_count": 3,
   "id": "6b174492-86ae-496b-9c18-804a8b257393",
   "metadata": {},
   "outputs": [],
   "source": [
    "toyota= car()"
   ]
  },
  {
   "cell_type": "code",
   "execution_count": 4,
   "id": "750bb01d-1d2b-4006-97d0-233e97bceecf",
   "metadata": {},
   "outputs": [
    {
     "name": "stdout",
     "output_type": "stream",
     "text": [
      "door engine tyre window\n"
     ]
    }
   ],
   "source": [
    "toyota.parts()"
   ]
  },
  {
   "cell_type": "code",
   "execution_count": null,
   "id": "89527a1a-b736-4a06-9c3c-a87f8fcf6b2d",
   "metadata": {},
   "outputs": [],
   "source": []
  },
  {
   "cell_type": "markdown",
   "id": "834f569f-977b-47ea-801c-41c199c8078f",
   "metadata": {},
   "source": [
    "# Q2. Name the four pillars of OOPs."
   ]
  },
  {
   "cell_type": "markdown",
   "id": "60aef5b7-1233-41c8-9f9e-62be6042aa23",
   "metadata": {},
   "source": [
    "## ANS-\n",
    "        1. encapsulation\n",
    "        2. polymorphism\n",
    "        3. inheritance\n",
    "        4. abstarction"
   ]
  },
  {
   "cell_type": "code",
   "execution_count": null,
   "id": "a851dd4c-a375-476c-a403-9a00f8a43d00",
   "metadata": {},
   "outputs": [],
   "source": []
  },
  {
   "cell_type": "markdown",
   "id": "96493347-a82e-4666-a63a-569cc1379f36",
   "metadata": {},
   "source": [
    "# Q3. Explain why the _ _init_ _() function is used. Give a suitable example."
   ]
  },
  {
   "cell_type": "markdown",
   "id": "f283364c-626a-4fb4-afe0-96e5cc22e83d",
   "metadata": {},
   "source": [
    "# ANS\n",
    "        __init__ function is used as a constructor.\n",
    "        it is used to intialize the newly created object.\n",
    "        it passes data to the class"
   ]
  },
  {
   "cell_type": "code",
   "execution_count": 5,
   "id": "e9c29014-6106-4855-8710-aa8e779ca2fd",
   "metadata": {},
   "outputs": [],
   "source": [
    "class pwskills:\n",
    "    def __init__(self, phone, email, ids):\n",
    "        self.phone = phone\n",
    "        self.email = email\n",
    "        self.ids = ids\n",
    "   \n",
    "        ## another funtion to print all the details at one time\n",
    "    def return_student_details(self):\n",
    "        return self.phone, self.email, self.ids"
   ]
  },
  {
   "cell_type": "code",
   "execution_count": 6,
   "id": "456dc0ce-ac1c-4a5b-a03b-c53170d2129f",
   "metadata": {},
   "outputs": [],
   "source": [
    "pratham= pwskills(64516541,'tryedty',101)"
   ]
  },
  {
   "cell_type": "code",
   "execution_count": 7,
   "id": "7bac8255-7504-45ca-8eb7-f2020c9bde08",
   "metadata": {},
   "outputs": [
    {
     "data": {
      "text/plain": [
       "64516541"
      ]
     },
     "execution_count": 7,
     "metadata": {},
     "output_type": "execute_result"
    }
   ],
   "source": [
    "pratham.phone"
   ]
  },
  {
   "cell_type": "code",
   "execution_count": 8,
   "id": "ce165f54-63e4-47ea-b2e7-aba83db83114",
   "metadata": {},
   "outputs": [
    {
     "data": {
      "text/plain": [
       "'tryedty'"
      ]
     },
     "execution_count": 8,
     "metadata": {},
     "output_type": "execute_result"
    }
   ],
   "source": [
    "pratham.email"
   ]
  },
  {
   "cell_type": "code",
   "execution_count": 9,
   "id": "7a67e414-477d-485a-92ea-b5bb23a06bda",
   "metadata": {},
   "outputs": [
    {
     "data": {
      "text/plain": [
       "(64516541, 'tryedty', 101)"
      ]
     },
     "execution_count": 9,
     "metadata": {},
     "output_type": "execute_result"
    }
   ],
   "source": [
    "pratham.return_student_details()"
   ]
  },
  {
   "cell_type": "code",
   "execution_count": null,
   "id": "8cb0ef0b-d321-4f10-9200-6ddf02a03bc3",
   "metadata": {},
   "outputs": [],
   "source": []
  },
  {
   "cell_type": "markdown",
   "id": "10ffa650-98bf-43b2-bbb8-c7f6d7ad0b61",
   "metadata": {},
   "source": [
    "# Q4. Why self is used in OOPs?"
   ]
  },
  {
   "cell_type": "markdown",
   "id": "162f5efc-6121-47f8-a3dd-934e1d124f52",
   "metadata": {},
   "source": [
    "# ANS \n",
    "        self is a pointer\n",
    "        self is a reference variable\n",
    "        self is used in oops for the reference to the class\n",
    "        it confirms to the class regarding the methods inside it\n",
    "        "
   ]
  },
  {
   "cell_type": "code",
   "execution_count": null,
   "id": "e52cde0e-c340-414f-a910-7563cc698843",
   "metadata": {},
   "outputs": [],
   "source": []
  },
  {
   "cell_type": "markdown",
   "id": "32287f2c-fe5f-4368-95c8-1166780c8b17",
   "metadata": {},
   "source": [
    "# Q5. What is inheritance? Give an example for each type of inheritance."
   ]
  },
  {
   "cell_type": "markdown",
   "id": "c30e6858-ba7f-40d1-a285-c942183a6ef8",
   "metadata": {},
   "source": [
    "# ANS\n",
    "        inheritance means \n",
    "        \n",
    "    there are two types of inheritance-\n",
    "        1. multi-level inheritance- accessing parent class from 3,4th class with the help of 2nd class.\n",
    "        \n",
    "        2. multiple inheritance- accessing multiple parent classes"
   ]
  },
  {
   "cell_type": "code",
   "execution_count": 23,
   "id": "05fdc53f-b6af-4e8f-8503-8d96e4b7d56b",
   "metadata": {},
   "outputs": [],
   "source": [
    "#Eg multi-level inheritance\n",
    "class class1():\n",
    "    def test(self):\n",
    "        print('this is class 2')\n"
   ]
  },
  {
   "cell_type": "code",
   "execution_count": 24,
   "id": "2ec3d989-8376-4258-869e-4d6c732b1d85",
   "metadata": {},
   "outputs": [],
   "source": [
    "class class2(class1):\n",
    "    def test2(self):\n",
    "        print('this class 2') "
   ]
  },
  {
   "cell_type": "code",
   "execution_count": 25,
   "id": "4d71bb09-379a-42e5-831c-f9f029a9c4c0",
   "metadata": {},
   "outputs": [],
   "source": [
    "class class3(class2):\n",
    "    def test3(self):\n",
    "        print('this is class 3')"
   ]
  },
  {
   "cell_type": "code",
   "execution_count": 28,
   "id": "0c1f74fa-adcd-43f7-bc12-c783aa9e184d",
   "metadata": {},
   "outputs": [],
   "source": [
    "abc= class3()"
   ]
  },
  {
   "cell_type": "code",
   "execution_count": 29,
   "id": "671ce7b5-eabe-4b65-b857-d5e3685d84ec",
   "metadata": {},
   "outputs": [
    {
     "name": "stdout",
     "output_type": "stream",
     "text": [
      "this is class 3\n"
     ]
    }
   ],
   "source": [
    "abc.test3()"
   ]
  },
  {
   "cell_type": "code",
   "execution_count": null,
   "id": "a3390f49-4fe9-4d60-b4f8-ee36f02052fe",
   "metadata": {},
   "outputs": [],
   "source": []
  },
  {
   "cell_type": "code",
   "execution_count": 30,
   "id": "e54bbb8b-a3b7-4159-9a27-9ebc80d606b1",
   "metadata": {},
   "outputs": [],
   "source": [
    "# multiple inheritance\n",
    "class a():\n",
    "    def test1(self):\n",
    "        print('this is class 1')"
   ]
  },
  {
   "cell_type": "code",
   "execution_count": 31,
   "id": "40b157b3-9915-419f-b25d-ffcce0a76ec3",
   "metadata": {},
   "outputs": [],
   "source": [
    "class b():\n",
    "    def test2(self):\n",
    "        print('this is class 2')"
   ]
  },
  {
   "cell_type": "code",
   "execution_count": 32,
   "id": "fb06f3e1-3e64-43c3-bfbe-f67322fb28a4",
   "metadata": {},
   "outputs": [],
   "source": [
    "class c(a b):\n",
    "    pass"
   ]
  },
  {
   "cell_type": "code",
   "execution_count": 34,
   "id": "90b4c0de-1051-4a33-a264-8708903500e3",
   "metadata": {},
   "outputs": [],
   "source": [
    "z=c()"
   ]
  },
  {
   "cell_type": "code",
   "execution_count": 35,
   "id": "3bb6c594-d5ea-4ec6-b414-45cd8a5d6458",
   "metadata": {},
   "outputs": [
    {
     "name": "stdout",
     "output_type": "stream",
     "text": [
      "this is class 1\n"
     ]
    }
   ],
   "source": [
    "z.test1()"
   ]
  },
  {
   "cell_type": "code",
   "execution_count": 36,
   "id": "c514408c-9792-4cae-aa43-063662f18b43",
   "metadata": {},
   "outputs": [
    {
     "name": "stdout",
     "output_type": "stream",
     "text": [
      "this is class 2\n"
     ]
    }
   ],
   "source": [
    "z.test2()"
   ]
  },
  {
   "cell_type": "code",
   "execution_count": null,
   "id": "c14cedcb-6313-4dca-b505-aa30fa834497",
   "metadata": {},
   "outputs": [],
   "source": []
  },
  {
   "cell_type": "code",
   "execution_count": null,
   "id": "adf33698-06ef-47ea-a893-fae294ff2e82",
   "metadata": {},
   "outputs": [],
   "source": []
  }
 ],
 "metadata": {
  "kernelspec": {
   "display_name": "Python 3 (ipykernel)",
   "language": "python",
   "name": "python3"
  },
  "language_info": {
   "codemirror_mode": {
    "name": "ipython",
    "version": 3
   },
   "file_extension": ".py",
   "mimetype": "text/x-python",
   "name": "python",
   "nbconvert_exporter": "python",
   "pygments_lexer": "ipython3",
   "version": "3.10.8"
  }
 },
 "nbformat": 4,
 "nbformat_minor": 5
}

{
 "cells": [
  {
   "cell_type": "markdown",
   "id": "0fa99517-bb94-4c71-be44-95a1ae403c60",
   "metadata": {},
   "source": [
    "# Q1. Create a function which will take a list as an argument and return the product of all the numbers after creating a flat list.\n",
    "\n",
    "# Use the below-given list as an argument for your function.\n",
    "# list1 = [1,2,3,4, [44,55,66, True], False, (34,56,78,89,34), {1,2,3,3,2,1}, {1:34, \"key2\": [55, 67, 78, 89], 4: (45, 22, 61, 34)}, [56, 'data science'], 'Machine Learning']\n",
    "\n",
    "# Note: you must extract numeric keys and values of the dictionary also."
   ]
  },
  {
   "cell_type": "code",
   "execution_count": 96,
   "id": "6eca4146-39c5-4242-b854-a0bbf819ff66",
   "metadata": {},
   "outputs": [],
   "source": [
    "list1 = [1,2,3,4, [44,55,66, True], False, (34,56,78,89,34), {1,2,3,3,2,1}, {1:34, \"key2\": [55, 67, 78, 89], 4: (45,\n",
    "22, 61, 34)}, [56, 'data science'], 'Machine Learning']"
   ]
  },
  {
   "cell_type": "code",
   "execution_count": 97,
   "id": "72519eea-86fa-4aff-b88c-c1293a3ad434",
   "metadata": {},
   "outputs": [],
   "source": [
    "def l1(a):\n",
    "    n=[]\n",
    "    for i in a:\n",
    "        if type(i)==list or type(i)==tuple or type(i)==set:\n",
    "            n.extend(i)\n",
    "        elif type(i)==dict:\n",
    "            n.extend(i.keys())\n",
    "            n.extend(i.values())\n",
    "        elif type(i)==int:\n",
    "            n.append(i)\n",
    "    return n\n",
    "            \n",
    " "
   ]
  },
  {
   "cell_type": "code",
   "execution_count": 98,
   "id": "17b63f53-6238-49cc-a4c1-10a12592cb22",
   "metadata": {},
   "outputs": [],
   "source": [
    "b=(l1(list1))"
   ]
  },
  {
   "cell_type": "code",
   "execution_count": 99,
   "id": "199aa05c-f67a-428d-8db0-894ea4694212",
   "metadata": {},
   "outputs": [
    {
     "name": "stdout",
     "output_type": "stream",
     "text": [
      "[1, 2, 3, 4, 44, 55, 66, True, 34, 56, 78, 89, 34, 1, 2, 3, 1, 'key2', 4, 34, [55, 67, 78, 89], (45, 22, 61, 34), 56, 'data science']\n"
     ]
    }
   ],
   "source": [
    "print(b)"
   ]
  },
  {
   "cell_type": "code",
   "execution_count": 100,
   "id": "383609bf-be0a-4104-bcf2-e79bda0d2bda",
   "metadata": {},
   "outputs": [],
   "source": [
    "def test1(c):\n",
    "    n=[]\n",
    "    for i in c:\n",
    "        if type(i)==list or type(i)==tuple:\n",
    "            for j in i:\n",
    "                if type(j)==int or type(j)== float:\n",
    "                    n.append(j)\n",
    "        else:\n",
    "            if type(i)==int or type(i)==float:\n",
    "                n.append(i)\n",
    "    return n"
   ]
  },
  {
   "cell_type": "code",
   "execution_count": 101,
   "id": "932b51f9-51cc-466c-bc4b-0da8afa0f432",
   "metadata": {},
   "outputs": [],
   "source": [
    "final_list=(test1(b))"
   ]
  },
  {
   "cell_type": "code",
   "execution_count": 102,
   "id": "82ae1900-741d-40ef-a9e9-c9270460d1b0",
   "metadata": {},
   "outputs": [
    {
     "name": "stdout",
     "output_type": "stream",
     "text": [
      "[1, 2, 3, 4, 44, 55, 66, 34, 56, 78, 89, 34, 1, 2, 3, 1, 4, 34, 55, 67, 78, 89, 45, 22, 61, 34, 56]\n"
     ]
    }
   ],
   "source": [
    "print(final_list)"
   ]
  },
  {
   "cell_type": "code",
   "execution_count": 103,
   "id": "baf634a7-7a9f-4a4f-bef1-e3c5d41f21c9",
   "metadata": {},
   "outputs": [
    {
     "data": {
      "text/plain": [
       "4134711838987085478833841242112000"
      ]
     },
     "execution_count": 103,
     "metadata": {},
     "output_type": "execute_result"
    }
   ],
   "source": [
    "from functools import reduce\n",
    "reduce(lambda x,y:x*y,final_list)\n"
   ]
  },
  {
   "cell_type": "code",
   "execution_count": 127,
   "id": "95260f22-eda9-4909-8d4d-65196ef6f085",
   "metadata": {},
   "outputs": [
    {
     "data": {
      "text/plain": [
       "116"
      ]
     },
     "execution_count": 127,
     "metadata": {},
     "output_type": "execute_result"
    }
   ],
   "source": [
    "ord('t')"
   ]
  },
  {
   "cell_type": "code",
   "execution_count": 121,
   "id": "6767df66-d664-4249-bdc9-4a20457aea4e",
   "metadata": {},
   "outputs": [
    {
     "data": {
      "text/plain": [
       "103"
      ]
     },
     "execution_count": 121,
     "metadata": {},
     "output_type": "execute_result"
    }
   ],
   "source": [
    "(ord('a') + (25 - (ord('t') - ord('a'))))"
   ]
  },
  {
   "cell_type": "code",
   "execution_count": 110,
   "id": "14382ddc-a0e7-494e-a80f-891658a23b5f",
   "metadata": {},
   "outputs": [
    {
     "data": {
      "text/plain": [
       "6"
      ]
     },
     "execution_count": 110,
     "metadata": {},
     "output_type": "execute_result"
    }
   ],
   "source": [
    "(25 - (ord('t') - ord('a')))"
   ]
  },
  {
   "cell_type": "code",
   "execution_count": 122,
   "id": "298358e7-5cf5-432d-a717-c15ed45b7840",
   "metadata": {},
   "outputs": [
    {
     "data": {
      "text/plain": [
       "'g'"
      ]
     },
     "execution_count": 122,
     "metadata": {},
     "output_type": "execute_result"
    }
   ],
   "source": [
    "chr(103)"
   ]
  },
  {
   "cell_type": "code",
   "execution_count": 125,
   "id": "95cefe8f-fdfc-4e73-a340-a378c820deb3",
   "metadata": {},
   "outputs": [
    {
     "data": {
      "text/plain": [
       "'N'"
      ]
     },
     "execution_count": 125,
     "metadata": {},
     "output_type": "execute_result"
    }
   ],
   "source": [
    "chr(78)"
   ]
  },
  {
   "cell_type": "code",
   "execution_count": 126,
   "id": "e34df797-e60a-47d7-adde-72f8afb52bfb",
   "metadata": {},
   "outputs": [
    {
     "data": {
      "text/plain": [
       "'\\x13'"
      ]
     },
     "execution_count": 126,
     "metadata": {},
     "output_type": "execute_result"
    }
   ],
   "source": [
    "chr(19)"
   ]
  },
  {
   "cell_type": "markdown",
   "id": "ab68cefd-aa80-42d7-8aa5-5bec8328a960",
   "metadata": {
    "tags": []
   },
   "source": [
    "# Q2. Write a python program for encrypting a message sent to you by your friend. The logic of encryption should be such that, for a the output should be z. For b, the output should be y. For c, the output should be x respectively. Also, the whitespace should be replaced with a dollar sign. Keep the punctuation marks unchanged.\n",
    "\n",
    "\n",
    "\n",
    "# Input Sentence: I want to become a Data Scientist.\n",
    "# Encrypt the above input sentence using the program you just created.\n",
    "# Note: Convert the given input sentence into lowercase before encrypting. The final output should be lowercase.\n"
   ]
  },
  {
   "cell_type": "code",
   "execution_count": 176,
   "id": "299097d0-b582-41de-956c-6404a7f9ed02",
   "metadata": {},
   "outputs": [],
   "source": [
    "def msg(message):\n",
    "    result=''\n",
    "    for i in message.lower():\n",
    "        if i.isalpha():\n",
    "            result= result + chr(ord('a')+(25-(ord(i)-ord('a'))))\n",
    "        elif i.isspace():\n",
    "            result+=\" $ \"\n",
    "        else:\n",
    "            result+=i\n",
    "    return result"
   ]
  },
  {
   "cell_type": "code",
   "execution_count": 177,
   "id": "db015bb0-80ba-4d80-9321-9ca80df55750",
   "metadata": {},
   "outputs": [],
   "source": [
    "a='I want to become a Data Scientist.'"
   ]
  },
  {
   "cell_type": "code",
   "execution_count": 178,
   "id": "ffa3c202-258d-4a51-92f7-6b6ebb1c1bbe",
   "metadata": {},
   "outputs": [],
   "source": [
    "final=msg(a)"
   ]
  },
  {
   "cell_type": "code",
   "execution_count": 179,
   "id": "24803316-1fd8-41f4-8a3d-ac6cf6a92016",
   "metadata": {},
   "outputs": [
    {
     "name": "stdout",
     "output_type": "stream",
     "text": [
      "r $ dzmg $ gl $ yvxlnv $ z $ wzgz $ hxrvmgrhg.\n"
     ]
    }
   ],
   "source": [
    "print(final)"
   ]
  },
  {
   "cell_type": "code",
   "execution_count": 180,
   "id": "fdb2c68a-4f5d-4cbf-80c7-28f340861b45",
   "metadata": {},
   "outputs": [
    {
     "name": "stdout",
     "output_type": "stream",
     "text": [
      "R $ DZMG $ GL $ YVXLNV $ Z $ WZGZ $ HXRVMGRHG.\n"
     ]
    }
   ],
   "source": [
    "print(final.upper())"
   ]
  },
  {
   "cell_type": "code",
   "execution_count": null,
   "id": "607f679e-d72a-436e-9c96-013f7db953f5",
   "metadata": {},
   "outputs": [],
   "source": []
  }
 ],
 "metadata": {
  "kernelspec": {
   "display_name": "Python 3 (ipykernel)",
   "language": "python",
   "name": "python3"
  },
  "language_info": {
   "codemirror_mode": {
    "name": "ipython",
    "version": 3
   },
   "file_extension": ".py",
   "mimetype": "text/x-python",
   "name": "python",
   "nbconvert_exporter": "python",
   "pygments_lexer": "ipython3",
   "version": "3.10.8"
  }
 },
 "nbformat": 4,
 "nbformat_minor": 5
}

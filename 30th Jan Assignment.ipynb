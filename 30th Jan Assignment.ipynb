{
 "cells": [
  {
   "cell_type": "markdown",
   "id": "86e7a21d-25e1-49aa-bed3-414dd686e64d",
   "metadata": {},
   "source": [
    "# Program for Grades"
   ]
  },
  {
   "cell_type": "code",
   "execution_count": 4,
   "id": "0e700a72-f0c9-4286-a74a-bbd84f13e775",
   "metadata": {},
   "outputs": [
    {
     "name": "stdin",
     "output_type": "stream",
     "text": [
      "Enter the percentage  67\n"
     ]
    },
    {
     "name": "stdout",
     "output_type": "stream",
     "text": [
      "C Grade\n"
     ]
    }
   ],
   "source": [
    "a=int(input('Enter the percentage '))\n",
    "if a>90:\n",
    "    print('A Grade')\n",
    "elif 80<a<=90:\n",
    "    print('B Grade')\n",
    "elif 60<=a<=80:\n",
    "    print('C Grade')\n",
    "elif a<60:\n",
    "    print('D Grade')"
   ]
  },
  {
   "cell_type": "code",
   "execution_count": null,
   "id": "e42b25f2-6fb0-48c3-9a08-2e5b8b46afa4",
   "metadata": {},
   "outputs": [],
   "source": []
  },
  {
   "cell_type": "code",
   "execution_count": null,
   "id": "ad05e8e8-cac8-4455-b02d-fb698f6956c8",
   "metadata": {},
   "outputs": [],
   "source": []
  },
  {
   "cell_type": "code",
   "execution_count": 5,
   "id": "07094c2a-e450-4ae5-a830-e31cba8941ae",
   "metadata": {},
   "outputs": [
    {
     "name": "stdin",
     "output_type": "stream",
     "text": [
      "Enter the cost of Bike 50000\n"
     ]
    },
    {
     "name": "stdout",
     "output_type": "stream",
     "text": [
      "5% Tax\n"
     ]
    }
   ],
   "source": [
    "b=int(input('Enter the cost of Bike'))\n",
    "if a>100000:\n",
    "    print('15% tax')\n",
    "elif 50000<a<=100000:\n",
    "    print('10% Tax')\n",
    "elif a<=50000:\n",
    "    print('5% Tax')"
   ]
  },
  {
   "cell_type": "code",
   "execution_count": null,
   "id": "d7800736-fbfe-4e66-bf10-27b0e5b29add",
   "metadata": {},
   "outputs": [],
   "source": []
  },
  {
   "cell_type": "code",
   "execution_count": 9,
   "id": "e3409fe2-aecf-415f-a3c3-fc70ca2bdc59",
   "metadata": {},
   "outputs": [
    {
     "name": "stdin",
     "output_type": "stream",
     "text": [
      "Entr the city name gdh\n"
     ]
    },
    {
     "name": "stdout",
     "output_type": "stream",
     "text": [
      "I cant comment\n"
     ]
    }
   ],
   "source": [
    "a=input('Entr the city name')\n",
    "if a=='Delhi':\n",
    "    print('Red Fort')\n",
    "elif a=='Agra':\n",
    "    print('Taj Mahal')\n",
    "elif a=='Jaipur':\n",
    "    print('Jal Mahal')\n",
    "else:\n",
    "    print('I cant comment')"
   ]
  },
  {
   "cell_type": "code",
   "execution_count": null,
   "id": "52c9b407-ac0d-4bc0-af12-93058979078d",
   "metadata": {},
   "outputs": [],
   "source": []
  },
  {
   "cell_type": "code",
   "execution_count": null,
   "id": "4e57f9a2-5d78-4263-afd9-f90378898ecf",
   "metadata": {},
   "outputs": [],
   "source": []
  },
  {
   "cell_type": "markdown",
   "id": "42946adb-90b6-4771-a171-bb403a8cec3b",
   "metadata": {},
   "source": [
    "while loop is used to iterate the given condition till it not turns false."
   ]
  },
  {
   "cell_type": "code",
   "execution_count": null,
   "id": "f41a23f7-9b65-4c34-9f24-045c090860a9",
   "metadata": {},
   "outputs": [],
   "source": [
    "#Eg\n",
    "age=int(input('Enter the age'))\n",
    "while age>=18:\n",
    "    age=age+1\n",
    "    print('you are eligible to vote')\n",
    "else:\n",
    "    print('you are not eligible to vote')"
   ]
  },
  {
   "cell_type": "code",
   "execution_count": null,
   "id": "bbf1c7d6-b8b4-4d78-a5f4-c849b606512d",
   "metadata": {},
   "outputs": [],
   "source": []
  },
  {
   "cell_type": "code",
   "execution_count": null,
   "id": "95e2f661-6c0c-4274-a20d-beaeb6a1baa5",
   "metadata": {},
   "outputs": [],
   "source": []
  },
  {
   "cell_type": "code",
   "execution_count": null,
   "id": "67cd659a-9e7c-4e10-90a6-cb52dd84fc08",
   "metadata": {},
   "outputs": [],
   "source": []
  },
  {
   "cell_type": "code",
   "execution_count": 18,
   "id": "c8c2d22a-e755-402b-80cc-2d270f0ab2f4",
   "metadata": {},
   "outputs": [
    {
     "name": "stdout",
     "output_type": "stream",
     "text": [
      "0\n"
     ]
    }
   ],
   "source": [
    "c=100\n",
    "count=0\n",
    "while c%3>=10:\n",
    "    c/=3\n",
    "    count+=1\n",
    "print(count)"
   ]
  },
  {
   "cell_type": "code",
   "execution_count": null,
   "id": "aac7d63e-0bea-4d67-93c4-e25f63c6d6dd",
   "metadata": {},
   "outputs": [],
   "source": []
  },
  {
   "cell_type": "code",
   "execution_count": null,
   "id": "4d90ce80-1725-46d7-a53a-afc2b5c0fd76",
   "metadata": {},
   "outputs": [],
   "source": []
  },
  {
   "cell_type": "code",
   "execution_count": null,
   "id": "5af9ee9a-40dd-40b8-938a-a57cd05bc17f",
   "metadata": {},
   "outputs": [],
   "source": [
    "a=10\n",
    "while a>=1:\n",
    "   \n",
    "    print(a,end=' ')\n",
    "    a=a-1\n"
   ]
  },
  {
   "cell_type": "code",
   "execution_count": null,
   "id": "18bcb191-0986-47ca-b6da-ae4399a8582b",
   "metadata": {},
   "outputs": [],
   "source": []
  },
  {
   "cell_type": "markdown",
   "id": "813ea737-086d-4ffa-ad12-0e1e016a511f",
   "metadata": {},
   "source": []
  },
  {
   "cell_type": "code",
   "execution_count": null,
   "id": "b8bc011d-3fb0-44ca-a660-9c4aeb5abcbb",
   "metadata": {},
   "outputs": [],
   "source": []
  },
  {
   "cell_type": "code",
   "execution_count": null,
   "id": "46f0057a-160f-4c2b-907f-635cd2846e15",
   "metadata": {},
   "outputs": [],
   "source": []
  },
  {
   "cell_type": "code",
   "execution_count": null,
   "id": "a77064de-1701-4ea0-98c1-b21cf6811bac",
   "metadata": {},
   "outputs": [],
   "source": []
  }
 ],
 "metadata": {
  "kernelspec": {
   "display_name": "Python 3 (ipykernel)",
   "language": "python",
   "name": "python3"
  },
  "language_info": {
   "codemirror_mode": {
    "name": "ipython",
    "version": 3
   },
   "file_extension": ".py",
   "mimetype": "text/x-python",
   "name": "python",
   "nbconvert_exporter": "python",
   "pygments_lexer": "ipython3",
   "version": "3.10.8"
  }
 },
 "nbformat": 4,
 "nbformat_minor": 5
}

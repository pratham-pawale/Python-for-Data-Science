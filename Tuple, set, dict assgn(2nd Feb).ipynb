{
 "cells": [
  {
   "cell_type": "markdown",
   "id": "57513425-2ea7-413d-b3e1-9284d0275445",
   "metadata": {},
   "source": [
    "## Q1. What are the characteristics of the tuples? Is tuple immutable?"
   ]
  },
  {
   "cell_type": "markdown",
   "id": "01f72ac8-9452-43a9-ba10-b20a559286f8",
   "metadata": {},
   "source": [
    "### ANS-  \n",
    "      Characteristicsa of tuple-\n",
    "              1) tuples  are created by the '()' braces\n",
    "              2) tuple supports of all types in characters\n",
    "                  eg- int, string, complex, float...\n",
    "              3) tuple does not support the item reassignment\n",
    "              4) we can check the specific item whether it  is present inside or not by using \"in\" inbuild operation\n",
    "     YES, Tuple is immutable becoz we can't reassign the value with the help of index."
   ]
  },
  {
   "cell_type": "code",
   "execution_count": null,
   "id": "a0a42a51-feb5-46ce-b190-332cfc0f8bcb",
   "metadata": {},
   "outputs": [],
   "source": []
  },
  {
   "cell_type": "code",
   "execution_count": null,
   "id": "140e3b0f-eb8f-4cfc-b651-e47cc1280449",
   "metadata": {},
   "outputs": [],
   "source": []
  },
  {
   "cell_type": "markdown",
   "id": "9ccc9d1e-3680-4b2b-8e8e-1d77e5e7a385",
   "metadata": {},
   "source": [
    "## Q2. What are the two tuple methods in python? Give an example of each method. Give a reason why tuples have only two in-built methods as compared to Lists.\n",
    "\n"
   ]
  },
  {
   "cell_type": "markdown",
   "id": "03d5f9d7-1379-42af-b37c-d114115c36a7",
   "metadata": {},
   "source": [
    "### ANS-\n",
    "        Tuple methods-\n",
    "                1) count- it is used to check how many times the specific element is iiterated.\n",
    "                2) index- it is used to check the index value of the specific element.\n",
    "        There are only two methodds available inside the tuple becoz tuple is immutable so methods like append, add, pop is not available inside the tuple.\n",
    "     "
   ]
  },
  {
   "cell_type": "code",
   "execution_count": 3,
   "id": "71a26827-56ce-4d53-a9d2-6d6663bac672",
   "metadata": {},
   "outputs": [
    {
     "data": {
      "text/plain": [
       "1"
      ]
     },
     "execution_count": 3,
     "metadata": {},
     "output_type": "execute_result"
    }
   ],
   "source": [
    "## Count\n",
    "t1=(1,2,3,4,5)\n",
    "t1.count(2)"
   ]
  },
  {
   "cell_type": "code",
   "execution_count": 5,
   "id": "bbe4a64a-73f9-46ae-8caa-68405332f256",
   "metadata": {},
   "outputs": [
    {
     "data": {
      "text/plain": [
       "4"
      ]
     },
     "execution_count": 5,
     "metadata": {},
     "output_type": "execute_result"
    }
   ],
   "source": [
    "t1.index(5)"
   ]
  },
  {
   "cell_type": "code",
   "execution_count": null,
   "id": "6adfec6e-0bd9-46bd-bafd-ba4e337132d0",
   "metadata": {},
   "outputs": [],
   "source": []
  },
  {
   "cell_type": "code",
   "execution_count": null,
   "id": "7e3e397b-70f1-4be1-8f5a-9c9aa4b6e5f9",
   "metadata": {},
   "outputs": [],
   "source": []
  },
  {
   "cell_type": "markdown",
   "id": "f84727a6-935f-40b4-a845-3de123290363",
   "metadata": {},
   "source": [
    "## Q3. Which collection datatypes in python do not allow duplicate items? Write a code using a set to remove duplicates from the given list.\n",
    "\n",
    "## List = [1, 1, 1, 2, 1, 3, 1, 4, 2, 1, 2, 2, 2, 3, 2, 4, 3, 1, 3, 2, 3, 3, 3, 4, 4, 1, 4, 2, 4, 3, 4, 4]"
   ]
  },
  {
   "cell_type": "markdown",
   "id": "74d9d405-822f-4c32-9dfb-27d5862517f3",
   "metadata": {},
   "source": [
    "### ANS-\n",
    "        set do not aloud the dublicate items inside it becoz it stores the information in neat and clean manner."
   ]
  },
  {
   "cell_type": "code",
   "execution_count": 1,
   "id": "83de3d59-6895-45c5-9f52-85cfa932db12",
   "metadata": {},
   "outputs": [],
   "source": [
    "l1 = [1, 1, 1, 2, 1, 3, 1, 4, 2, 1, 2, 2, 2, 3, 2, 4, 3, 1, 3, 2, 3, 3, 3, 4, 4, 1, 4, 2, 4, 3, 4, 4]"
   ]
  },
  {
   "cell_type": "code",
   "execution_count": 51,
   "id": "c803186d-c511-417c-b863-c7fc69166aab",
   "metadata": {},
   "outputs": [],
   "source": [
    "##set=(l1)"
   ]
  },
  {
   "cell_type": "code",
   "execution_count": 3,
   "id": "37fbe169-7191-4ed8-ad1d-5a3bc2226cac",
   "metadata": {},
   "outputs": [
    {
     "name": "stdout",
     "output_type": "stream",
     "text": [
      "[1, 2, 3, 4]\n",
      "{1, 2, 3, 4}\n"
     ]
    }
   ],
   "source": [
    "s1=set(l1)\n",
    "l2=list(s1)\n",
    "print(l2)\n",
    "print(s1)"
   ]
  },
  {
   "cell_type": "code",
   "execution_count": 4,
   "id": "cd698948-de22-4721-836e-0c0126f55ebf",
   "metadata": {},
   "outputs": [],
   "source": []
  },
  {
   "cell_type": "code",
   "execution_count": 13,
   "id": "c906151c-1afe-46e7-a1d8-8ea4306df651",
   "metadata": {},
   "outputs": [
    {
     "name": "stdout",
     "output_type": "stream",
     "text": [
      "{1, 2, 3, 4}\n",
      "[1, 2, 3, 4]\n"
     ]
    }
   ],
   "source": [
    "s1=set(l1)\n",
    "print(s1)\n",
    "\n",
    "l2=list(s1)\n",
    "print(l2)"
   ]
  },
  {
   "cell_type": "markdown",
   "id": "29dc7d08-881f-4277-a06b-317afd19507f",
   "metadata": {},
   "source": [
    "# Q4. Explain the difference between the union() and update() methods for a set. Give an example of each method.\n"
   ]
  },
  {
   "cell_type": "markdown",
   "id": "bca82e24-987d-429f-94b6-cc79251ba7fa",
   "metadata": {},
   "source": [
    "### ANS\n",
    "        union() - it can add the elements in the  existing set but it does not affect the earlier set.\n",
    "        update() - it not only adds the elements in the existing set but also it updates the existing set with new elements.\n"
   ]
  },
  {
   "cell_type": "code",
   "execution_count": 2,
   "id": "09729680-42ce-413b-b876-6168f641ba5b",
   "metadata": {},
   "outputs": [],
   "source": [
    "## Eg-\n",
    "s1={1,2,3,4,5,6,7,8}\n",
    "s2={8,7,6,5,4,3,2,1}"
   ]
  },
  {
   "cell_type": "code",
   "execution_count": 4,
   "id": "7da3637a-45ca-49b6-afb1-aeb102335e8a",
   "metadata": {},
   "outputs": [
    {
     "data": {
      "text/plain": [
       "{1, 2, 3, 4, 5, 6, 7, 8, 'a', 'h', 'm', 'p', 'r', 't'}"
      ]
     },
     "execution_count": 4,
     "metadata": {},
     "output_type": "execute_result"
    }
   ],
   "source": [
    "s1.update('pratham')\n",
    "s1"
   ]
  },
  {
   "cell_type": "code",
   "execution_count": 6,
   "id": "1da75d81-222e-4a67-a2e4-f87b3fc9b112",
   "metadata": {},
   "outputs": [
    {
     "data": {
      "text/plain": [
       "{1, 2, 3, 4, 5, 6, 7, 8, 'a', 'h', 'm', 'p', 'r', 't'}"
      ]
     },
     "execution_count": 6,
     "metadata": {},
     "output_type": "execute_result"
    }
   ],
   "source": [
    "s2.union('pratham')"
   ]
  },
  {
   "cell_type": "code",
   "execution_count": 7,
   "id": "83fadb1d-8d94-4e73-ab9b-14b5f5a3bc62",
   "metadata": {},
   "outputs": [
    {
     "data": {
      "text/plain": [
       "{1, 2, 3, 4, 5, 6, 7, 8}"
      ]
     },
     "execution_count": 7,
     "metadata": {},
     "output_type": "execute_result"
    }
   ],
   "source": [
    "s2"
   ]
  },
  {
   "cell_type": "code",
   "execution_count": null,
   "id": "2c0f1c5b-58fa-40ef-a05d-1e96428fab93",
   "metadata": {},
   "outputs": [],
   "source": []
  },
  {
   "cell_type": "markdown",
   "id": "d39da748-6d77-4754-8494-30ead196a15e",
   "metadata": {},
   "source": [
    "# Q5. What is a dictionary? Give an example. Also, state whether a dictionary is ordered or unordered."
   ]
  },
  {
   "cell_type": "markdown",
   "id": "b709e56b-2d0d-4259-aa11-6fb0b316ac45",
   "metadata": {},
   "source": [
    "# ANS-\n",
    "        Dictionary is the collection in python programmming.\n",
    "        dictionary is in the form of \"keys and values\"\n",
    "        keys are immutable\n",
    "        \n",
    "    Dictionaries are unordered in nature as the order of the keys is not fixed"
   ]
  },
  {
   "cell_type": "code",
   "execution_count": 8,
   "id": "4fdd0b32-8975-4d8e-8107-87ec318e06a3",
   "metadata": {},
   "outputs": [],
   "source": [
    "#Eg-\n",
    "d1={'key':'value','key1':'value2'}"
   ]
  },
  {
   "cell_type": "code",
   "execution_count": 9,
   "id": "03521316-8001-4920-bbe2-1103760a98f7",
   "metadata": {},
   "outputs": [
    {
     "data": {
      "text/plain": [
       "{'key': 'value', 'key1': 'value2'}"
      ]
     },
     "execution_count": 9,
     "metadata": {},
     "output_type": "execute_result"
    }
   ],
   "source": [
    "d1"
   ]
  },
  {
   "cell_type": "code",
   "execution_count": null,
   "id": "27639271-3ccb-4f26-a441-75108700544a",
   "metadata": {},
   "outputs": [],
   "source": []
  },
  {
   "cell_type": "markdown",
   "id": "35298eb1-56d8-4264-b7c2-7f7d694f2d0f",
   "metadata": {},
   "source": [
    "# Q6. Can we create a nested dictionary? If so, please give an example by creating a simple one-level nested dictionary.\n"
   ]
  },
  {
   "cell_type": "markdown",
   "id": "1073fea1-5b84-46e0-a29e-6bf035ce0486",
   "metadata": {},
   "source": [
    "### ANS-\n",
    "         Yes we can creater the nested dictionary"
   ]
  },
  {
   "cell_type": "code",
   "execution_count": 14,
   "id": "f852cde0-0d93-4954-82ed-f83cabdc0679",
   "metadata": {},
   "outputs": [],
   "source": [
    "#Eg-\n",
    "d2={'key1' : {'key2' : {'value2': {'key3', 'value3'}}}}"
   ]
  },
  {
   "cell_type": "code",
   "execution_count": 15,
   "id": "c824a543-37ad-482f-a7f7-9761cbeb0675",
   "metadata": {},
   "outputs": [
    {
     "data": {
      "text/plain": [
       "{'key1': {'key2': {'value2': {'key3', 'value3'}}}}"
      ]
     },
     "execution_count": 15,
     "metadata": {},
     "output_type": "execute_result"
    }
   ],
   "source": [
    "d2"
   ]
  },
  {
   "cell_type": "code",
   "execution_count": null,
   "id": "38e75eed-e9d7-4dd1-82b8-346ffd6cac2d",
   "metadata": {},
   "outputs": [],
   "source": []
  },
  {
   "cell_type": "markdown",
   "id": "e960065b-f416-499d-813e-36f878067ed0",
   "metadata": {},
   "source": [
    "# Q7. Using setdefault() method, create key named topics in the given dictionary and also add the value of the key as this list ['Python', 'Machine Learning’, 'Deep Learning']"
   ]
  },
  {
   "cell_type": "code",
   "execution_count": 35,
   "id": "8252cff0-a0c0-431b-9fe1-33dd3d8593b2",
   "metadata": {},
   "outputs": [],
   "source": [
    "dict1 = {'language' : 'Python', 'course': 'Data Science Masters'}\n"
   ]
  },
  {
   "cell_type": "code",
   "execution_count": 36,
   "id": "5cf51ed4-c88b-43af-a059-dfd604357ff2",
   "metadata": {},
   "outputs": [
    {
     "data": {
      "text/plain": [
       "['Python', 'Machine learing', 'Deep learing']"
      ]
     },
     "execution_count": 36,
     "metadata": {},
     "output_type": "execute_result"
    }
   ],
   "source": [
    "dict1.setdefault('topics' , ['Python','Machine learing','Deep learing'])"
   ]
  },
  {
   "cell_type": "code",
   "execution_count": 38,
   "id": "c376602f-aca4-456e-a9d6-3fda3587226e",
   "metadata": {},
   "outputs": [
    {
     "data": {
      "text/plain": [
       "{'language': 'Python',\n",
       " 'course': 'Data Science Masters',\n",
       " 'topics': ['Python', 'Machine learing', 'Deep learing']}"
      ]
     },
     "execution_count": 38,
     "metadata": {},
     "output_type": "execute_result"
    }
   ],
   "source": [
    "dict1"
   ]
  },
  {
   "cell_type": "code",
   "execution_count": null,
   "id": "0a5d6e8a-5e4e-4c48-b4be-c5e05296fb53",
   "metadata": {},
   "outputs": [],
   "source": []
  },
  {
   "cell_type": "markdown",
   "id": "adeac159-98d0-46f5-bf47-457aa92edbab",
   "metadata": {},
   "source": [
    "# Q8. What are the three view objects in dictionaries? Use the three in-built methods in python to display these three view objects for the given dictionary. \n",
    "# dict1 = {'Sport': 'Cricket' , 'Teams': ['India', 'Australia', 'England', 'South Africa', 'Sri Lanka', 'New Zealand']}\n",
    "\n"
   ]
  },
  {
   "cell_type": "code",
   "execution_count": 39,
   "id": "99ed8e0a-970d-4461-8954-d767c1f38cb2",
   "metadata": {},
   "outputs": [],
   "source": [
    "#Eg-\n",
    "dict1 = {'Sport': 'Cricket' , 'Teams': ['India', 'Australia', 'England', 'South Africa', 'Sri Lanka', 'New Zealand']}"
   ]
  },
  {
   "cell_type": "code",
   "execution_count": 40,
   "id": "6e12ebdd-977f-4f56-be87-ac978d906016",
   "metadata": {},
   "outputs": [
    {
     "data": {
      "text/plain": [
       "dict_keys(['Sport', 'Teams'])"
      ]
     },
     "execution_count": 40,
     "metadata": {},
     "output_type": "execute_result"
    }
   ],
   "source": [
    "dict1.keys()"
   ]
  },
  {
   "cell_type": "code",
   "execution_count": 42,
   "id": "58855b18-4d2e-4602-aa49-d9e06063b837",
   "metadata": {},
   "outputs": [
    {
     "data": {
      "text/plain": [
       "dict_values(['Cricket', ['India', 'Australia', 'England', 'South Africa', 'Sri Lanka', 'New Zealand']])"
      ]
     },
     "execution_count": 42,
     "metadata": {},
     "output_type": "execute_result"
    }
   ],
   "source": [
    "dict1.values()"
   ]
  },
  {
   "cell_type": "code",
   "execution_count": 43,
   "id": "a696a3d4-8332-43da-88de-8bd97f90264f",
   "metadata": {},
   "outputs": [
    {
     "data": {
      "text/plain": [
       "dict_items([('Sport', 'Cricket'), ('Teams', ['India', 'Australia', 'England', 'South Africa', 'Sri Lanka', 'New Zealand'])])"
      ]
     },
     "execution_count": 43,
     "metadata": {},
     "output_type": "execute_result"
    }
   ],
   "source": [
    "dict1.items()"
   ]
  },
  {
   "cell_type": "code",
   "execution_count": null,
   "id": "1cbf6f52-50ff-4b49-a16b-11da0e00adbb",
   "metadata": {},
   "outputs": [],
   "source": []
  }
 ],
 "metadata": {
  "kernelspec": {
   "display_name": "Python 3 (ipykernel)",
   "language": "python",
   "name": "python3"
  },
  "language_info": {
   "codemirror_mode": {
    "name": "ipython",
    "version": 3
   },
   "file_extension": ".py",
   "mimetype": "text/x-python",
   "name": "python",
   "nbconvert_exporter": "python",
   "pygments_lexer": "ipython3",
   "version": "3.10.8"
  }
 },
 "nbformat": 4,
 "nbformat_minor": 5
}
